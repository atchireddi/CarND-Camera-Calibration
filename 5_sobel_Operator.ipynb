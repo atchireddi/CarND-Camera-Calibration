{
 "cells": [
  {
   "cell_type": "code",
   "execution_count": null,
   "metadata": {
    "collapsed": true
   },
   "outputs": [],
   "source": [
    "\n",
    "\n",
    "# Convert image to single color channel\n",
    "# Make sure to use the correct grayscale conversion depending\n",
    "# on how you've read in your image. use cv2.COLOR_RGB2GRAY --> mpimg.imread()\n",
    "# user cv2.COLOR_BGR2GRAY --> cv2.imread()\n",
    "\n",
    "gray = cv2.cvtColor(im, cv2.COLOR_RGB2GRAY)\n",
    "\n",
    "# Calculate the derivative in the x-direction,\n",
    "# 0 in the end denotes x-direction\n",
    "sobelx = cv2.Sobel(gray, cv2.CV_64F, 1, 0)\n",
    "\n",
    "# Calculate the derivative in the y-direction\n",
    "sobely = cv2.Sobel(gray, cv2.CV_64F, 0, 1)\n",
    "\n",
    "# Calculate the absolute value of x derivative\n",
    "abs_sobelx = np.absolute(sobelx)\n",
    "\n",
    "# Convert absolute value image to 8-bit image\n",
    "scaled_sobel = np.unit8(255*abs_sobelx/np.max(abs_sobelx))\n",
    "\n",
    "\n",
    "# Create a binary threshold to select pixels based on gradient strength:\n",
    "\n",
    "thld_min = 20\n",
    "thld_max = 100\n",
    "sxbinary = np.zeros_like(scaled_sobel)\n",
    "sxbinary[(scaled_sobel >= thld_min) & (scaled_sobel <= thld_max)] = 1\n",
    "\n",
    "plt.imshow(sxbinary, cmap='gray')"
   ]
  }
 ],
 "metadata": {
  "anaconda-cloud": {},
  "kernelspec": {
   "display_name": "Python [default]",
   "language": "python",
   "name": "python3"
  },
  "language_info": {
   "codemirror_mode": {
    "name": "ipython",
    "version": 3
   },
   "file_extension": ".py",
   "mimetype": "text/x-python",
   "name": "python",
   "nbconvert_exporter": "python",
   "pygments_lexer": "ipython3",
   "version": "3.5.2"
  }
 },
 "nbformat": 4,
 "nbformat_minor": 2
}
